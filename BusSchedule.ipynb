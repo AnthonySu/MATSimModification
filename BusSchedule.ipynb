{
 "cells": [
  {
   "cell_type": "markdown",
   "metadata": {},
   "source": [
    "This program will read in the designed GTFS xml format file and combine all trip departure tags with the same shape ID"
   ]
  },
  {
   "cell_type": "code",
   "execution_count": 2,
   "metadata": {
    "collapsed": true
   },
   "outputs": [],
   "source": [
    "import xml.etree.ElementTree as elem\n",
    "# Get the root of this tree as schedule_root\n",
    "schedule_root = elem.parse('BK-schedule.xml').getroot()"
   ]
  },
  {
   "cell_type": "code",
   "execution_count": 3,
   "metadata": {},
   "outputs": [
    {
     "data": {
      "text/plain": [
       "'transitSchedule'"
      ]
     },
     "execution_count": 3,
     "metadata": {},
     "output_type": "execute_result"
    }
   ],
   "source": [
    "# Find the tag for schedule_root\n",
    "schedule_root.tag"
   ]
  },
  {
   "cell_type": "code",
   "execution_count": 4,
   "metadata": {},
   "outputs": [
    {
     "name": "stdout",
     "output_type": "stream",
     "text": [
      "[None, 'B11_B11', 'B12_B12', 'B13_B13', 'B14_B14', 'B15_B15', 'B16_B16', 'B17_B17', 'B1_B1', 'B20_B20', 'B24_B24', 'B25_B25', 'B26_B26', 'B2_B2', 'B31_B31', 'B32_B32', 'B35_B35', 'B36_B36', 'B37_B37', 'B38_B38', 'B39_B39', 'B3_B3', 'B41_B41', 'B42_B42', 'B43_B43', 'B44-SBS_B44+', 'B44_B44', 'B45_B45', 'B46_B46', 'B47_B47', 'B48_B48', 'B49_B49', 'B4_B4', 'B52_B52', 'B54_B54', 'B57_B57', 'B60_B60', 'B61_B61', 'B62_B62', 'B63_B63', 'B64_B64', 'B65_B65', 'B67_B67', 'B68_B68', 'B69_B69', 'B6_B6', 'B70_B70', 'B74_B74', 'B7_B7', 'B82_B82', 'B83_B83', 'B84_B84', 'B8_B8', 'B9_B9', 'Bx10_BX10', 'Bx11_BX11', 'Bx12-SBS_BX12+', 'Bx12_BX12', 'Bx13_BX13', 'Bx15_BX15', 'Bx16_BX16', 'Bx17_BX17', 'Bx18_BX18', 'Bx19_BX19', 'Bx1_BX1', 'Bx20_BX20', 'Bx21_BX21', 'Bx22_BX22', 'Bx24_BX24', 'Bx26_BX26', 'Bx27_BX27', 'Bx28_BX28', 'Bx29_BX29', 'Bx2_BX2', 'Bx30_BX30', 'Bx31_BX31', 'Bx32_BX32', 'Bx33_BX33', 'Bx34_BX34', 'Bx35_BX35', 'Bx36_BX36', 'Bx38_BX38', 'Bx39_BX39', 'Bx3_BX3', 'Bx40_BX40', 'Bx41-SBS_BX41+', 'Bx41_BX41', 'Bx42_BX42', 'Bx46_BX46', 'Bx4A_BX4A', 'Bx4_BX4', 'Bx55_BX55', 'Bx5_BX5', 'Bx6_BX6', 'Bx7_BX7', 'Bx8_BX8', 'Bx9_BX9', 'G-SHUTTLE-L_B98A', 'G-SHUTTLE_B98', 'M100_M100', 'M101_M101', 'M102_M102', 'M103_M103', 'M104_M104', 'M106_M106', 'M10_M10', 'M116_M116', 'M11_M11', 'M12_M12', 'M14A_M14A', 'M14D_M14D', 'M15-SBS_M15+', 'M15_M15', 'M1_M1', 'M20_M20', 'M21_M21', 'M22_M22', 'M23_M23', 'M2_M2', 'M31_M31', 'M34-SBS_M34+', 'M34A-SBS_M34A+', 'M35_M35', 'M3_M3', 'M42_M42', 'M4_M4', 'M50_M50', 'M57_M57', 'M5_M5', 'M60-SBS_M60+', 'M60_M60', 'M66_M66', 'M72_M72', 'M79_M79', 'M7_M7', 'M86-SBS_M86+', 'M8_M8', 'M96_M96', 'M98_M98', 'M9_M9', 'Q12_Q12', 'Q13_Q13', 'Q15A_Q15A', 'Q15_Q15', 'Q16_Q16', 'Q17_Q17', 'Q1_Q1', 'Q20A_Q20A', 'Q20B_Q20B', 'Q24_Q24', 'Q26_Q26', 'Q27_Q27', 'Q28_Q28', 'Q2_Q2', 'Q30_Q30', 'Q31_Q31', 'Q32_Q32', 'Q36_Q36', 'Q3_Q3', 'Q42_Q42', 'Q43_Q43', 'Q44-SBS_Q44+', 'Q44_Q44', 'Q46_Q46', 'Q48_Q48', 'Q4_Q4', 'Q54_Q54', 'Q55_Q55', 'Q56_Q56', 'Q58_Q58', 'Q59_Q59', 'Q5_Q5', 'Q76_Q76', 'Q77_Q77', 'Q83_Q83', 'Q84_Q84', 'Q85_Q85', 'Q88_Q88', 'S1115_S1115', 'S40_S40', 'S42_S42', 'S44_S44', 'S46_S46', 'S48_S48', 'S51_S51', 'S52_S52', 'S53_S53', 'S54_S54', 'S55_S55', 'S56_S56', 'S57_S57', 'S59_S59', 'S61_S61', 'S62_S62', 'S66_S66', 'S74_S74', 'S76_S76', 'S78_S78', 'S79-SBS_S79+', 'S79_S79', 'S81_S81', 'S84_S84', 'S86_S86', 'S89_S89', 'S90_S90', 'S91_S91', 'S92_S92', 'S93_S93', 'S94_S94', 'S96_S96', 'S98_S98', 'X10B_X10B', 'X10_X10', 'X11_X11', 'X12_X12', 'X14_X14', 'X15_X15', 'X17A_X17A', 'X17J_X17J', 'X17_X17', 'X19_X19', 'X1_X1', 'X21_X21', 'X22A_X22A', 'X22_X22', 'X27_X27', 'X28_X28', 'X2_X2', 'X30_X30', 'X31_X31', 'X37_X37', 'X38_X38', 'X3_X3', 'X42_X42', 'X4_X4', 'X5_X5', 'X63_X63', 'X64_X64', 'X68_X68', 'X7_X7', 'X8_X8', 'X9_X9']\n"
     ]
    }
   ],
   "source": [
    "# Then we could see all the index desired in the index array\n",
    "index_array = []\n",
    "for child in schedule_root:\n",
    "    index = child.get('id')\n",
    "    index_array.append(index)\n",
    "print(index_array)"
   ]
  },
  {
   "cell_type": "code",
   "execution_count": 5,
   "metadata": {
    "collapsed": true
   },
   "outputs": [],
   "source": [
    "# Make a copy of the root:\n",
    "root = schedule_root\n",
    "# Initialize a dictionary to store all route profile corresponding to the shapeID:\n",
    "shapeID_dict = {}\n",
    "# Then we try to figure out the index interested\n",
    "index_interested = []\n",
    "for child in root:\n",
    "    # First we have to find all the transitLine children:\n",
    "    if child.tag == 'transitLine':\n",
    "        # Second we have to find out the transitLine which we are interested in:\n",
    "        if child.getchildren() != []:\n",
    "            # Iterate through all this transitLine elemenst interested\n",
    "            for transitRoute_child in child:\n",
    "                # Find the description tag including shapeID\n",
    "                description_child = transitRoute_child.find('description')\n",
    "                ID = description_child.text[8:]\n",
    "                routeProfile = transitRoute_child.find('routeProfile')\n",
    "                # And we filter out those do have a shapeID description\n",
    "                if ID not in shapeID_dict:\n",
    "                    # If the shapeID is new, we should add to the dictionary: \n",
    "                    elem_dict = []\n",
    "                    for item in routeProfile:\n",
    "                        elem_dict.append(item)\n",
    "                    shapeID_dict[ID] = elem_dict\n",
    "                else:\n",
    "                    # If this ID already in the dictionary, we just update/append the new routeProfile:\n",
    "                    current_content = shapeID_dict.get(ID)\n",
    "                    for item in routeProfile:\n",
    "                        current_content.append(item)\n",
    "                    shapeID_dict[ID] = current_content\n",
    "\n",
    "# print(shapeID_dict.get('B1O0264')) "
   ]
  },
  {
   "cell_type": "code",
   "execution_count": 6,
   "metadata": {},
   "outputs": [
    {
     "name": "stdout",
     "output_type": "stream",
     "text": [
      "The departure refID is 901473\n",
      "The departure offset is 00:00:00\n",
      "await departure? true\n"
     ]
    }
   ],
   "source": [
    "# Then we could construct the table according to the description, i.e. shapeID, we have:\n",
    "key = 'B1O0264' # Change this line\n",
    "stop_list = shapeID_dict.get(key)\n",
    "# We should remove the first stop element as it is the offset, and we could confirm that:\n",
    "departure = stop_list.pop(0)\n",
    "departure_refId = departure.get('refId')\n",
    "print('The departure refID is '+ departure_refId)\n",
    "departure_offset = departure.get('departureOffset')\n",
    "print('The departure offset is '+ departure_offset)\n",
    "await_departure = departure.get('awaitDeparture')\n",
    "print('await departure? '+ await_departure)\n",
    "\n",
    "# Warning: Do not run this block alone more than once since it modifies the list structure"
   ]
  },
  {
   "cell_type": "code",
   "execution_count": 10,
   "metadata": {},
   "outputs": [
    {
     "ename": "ValueError",
     "evalue": "Arguments \"names\" and \"dtype\" must match number of columns",
     "output_type": "error",
     "traceback": [
      "\u001b[0;31m---------------------------------------------------------------------------\u001b[0m",
      "\u001b[0;31mValueError\u001b[0m                                Traceback (most recent call last)",
      "\u001b[0;32m<ipython-input-10-276eb87fe2c0>\u001b[0m in \u001b[0;36m<module>\u001b[0;34m()\u001b[0m\n\u001b[1;32m      2\u001b[0m \u001b[0;32mimport\u001b[0m \u001b[0mnumpy\u001b[0m \u001b[0;32mas\u001b[0m \u001b[0mnp\u001b[0m\u001b[0;34m\u001b[0m\u001b[0m\n\u001b[1;32m      3\u001b[0m \u001b[0;32mfor\u001b[0m \u001b[0melement_stop\u001b[0m \u001b[0;32min\u001b[0m \u001b[0mstop_list\u001b[0m\u001b[0;34m:\u001b[0m\u001b[0;34m\u001b[0m\u001b[0m\n\u001b[0;32m----> 4\u001b[0;31m     \u001b[0mt\u001b[0m \u001b[0;34m=\u001b[0m \u001b[0mTable\u001b[0m\u001b[0;34m(\u001b[0m\u001b[0mnames\u001b[0m\u001b[0;34m=\u001b[0m\u001b[0;34m(\u001b[0m\u001b[0;34m'refID'\u001b[0m\u001b[0;34m,\u001b[0m \u001b[0;34m'arrivalOffset'\u001b[0m\u001b[0;34m,\u001b[0m \u001b[0;34m'departureOffset'\u001b[0m\u001b[0;34m,\u001b[0m\u001b[0;34m'awaitDeparture'\u001b[0m\u001b[0;34m)\u001b[0m\u001b[0;34m,\u001b[0m\u001b[0mdtype\u001b[0m\u001b[0;34m=\u001b[0m\u001b[0;34m'string'\u001b[0m\u001b[0;34m)\u001b[0m\u001b[0;34m\u001b[0m\u001b[0m\n\u001b[0m\u001b[1;32m      5\u001b[0m     \u001b[0mt\u001b[0m\u001b[0;34m.\u001b[0m\u001b[0madd_row\u001b[0m\u001b[0;34m(\u001b[0m\u001b[0;34m[\u001b[0m\u001b[0melement_stop\u001b[0m\u001b[0;34m.\u001b[0m\u001b[0mget\u001b[0m\u001b[0;34m(\u001b[0m\u001b[0;34m'refID'\u001b[0m\u001b[0;34m)\u001b[0m\u001b[0;34m,\u001b[0m \u001b[0melement_stop\u001b[0m\u001b[0;34m.\u001b[0m\u001b[0mget\u001b[0m\u001b[0;34m(\u001b[0m\u001b[0;34m'arrivalOffset'\u001b[0m\u001b[0;34m)\u001b[0m\u001b[0;34m,\u001b[0m \u001b[0melement_stop\u001b[0m\u001b[0;34m.\u001b[0m\u001b[0mget\u001b[0m\u001b[0;34m(\u001b[0m\u001b[0;34m'departureOffset'\u001b[0m\u001b[0;34m)\u001b[0m\u001b[0;34m,\u001b[0m \u001b[0melement_stop\u001b[0m\u001b[0;34m.\u001b[0m\u001b[0mget\u001b[0m\u001b[0;34m(\u001b[0m\u001b[0;34m'awaitDeparture'\u001b[0m\u001b[0;34m)\u001b[0m\u001b[0;34m]\u001b[0m\u001b[0;34m)\u001b[0m\u001b[0;34m\u001b[0m\u001b[0m\n",
      "\u001b[0;32m/anaconda3/lib/python3.6/site-packages/astropy/table/table.py\u001b[0m in \u001b[0;36m__init__\u001b[0;34m(self, data, masked, names, dtype, meta, copy, rows, copy_indices, **kwargs)\u001b[0m\n\u001b[1;32m    408\u001b[0m         \u001b[0mnames\u001b[0m \u001b[0;34m=\u001b[0m \u001b[0;34m[\u001b[0m\u001b[0mfix_column_name\u001b[0m\u001b[0;34m(\u001b[0m\u001b[0mname\u001b[0m\u001b[0;34m)\u001b[0m \u001b[0;32mfor\u001b[0m \u001b[0mname\u001b[0m \u001b[0;32min\u001b[0m \u001b[0mnames\u001b[0m\u001b[0;34m]\u001b[0m\u001b[0;34m\u001b[0m\u001b[0m\n\u001b[1;32m    409\u001b[0m \u001b[0;34m\u001b[0m\u001b[0m\n\u001b[0;32m--> 410\u001b[0;31m         \u001b[0mself\u001b[0m\u001b[0;34m.\u001b[0m\u001b[0m_check_names_dtype\u001b[0m\u001b[0;34m(\u001b[0m\u001b[0mnames\u001b[0m\u001b[0;34m,\u001b[0m \u001b[0mdtype\u001b[0m\u001b[0;34m,\u001b[0m \u001b[0mn_cols\u001b[0m\u001b[0;34m)\u001b[0m\u001b[0;34m\u001b[0m\u001b[0m\n\u001b[0m\u001b[1;32m    411\u001b[0m \u001b[0;34m\u001b[0m\u001b[0m\n\u001b[1;32m    412\u001b[0m         \u001b[0;31m# Finally do the real initialization\u001b[0m\u001b[0;34m\u001b[0m\u001b[0;34m\u001b[0m\u001b[0m\n",
      "\u001b[0;32m/anaconda3/lib/python3.6/site-packages/astropy/table/table.py\u001b[0m in \u001b[0;36m_check_names_dtype\u001b[0;34m(self, names, dtype, n_cols)\u001b[0m\n\u001b[1;32m    613\u001b[0m             raise ValueError(\n\u001b[1;32m    614\u001b[0m                 \u001b[0;34m'Arguments \"names\" and \"dtype\" must match number of columns'\u001b[0m\u001b[0;34m\u001b[0m\u001b[0m\n\u001b[0;32m--> 615\u001b[0;31m                 .format(inp_str))\n\u001b[0m\u001b[1;32m    616\u001b[0m \u001b[0;34m\u001b[0m\u001b[0m\n\u001b[1;32m    617\u001b[0m     \u001b[0;32mdef\u001b[0m \u001b[0m_set_masked_from_cols\u001b[0m\u001b[0;34m(\u001b[0m\u001b[0mself\u001b[0m\u001b[0;34m,\u001b[0m \u001b[0mcols\u001b[0m\u001b[0;34m)\u001b[0m\u001b[0;34m:\u001b[0m\u001b[0;34m\u001b[0m\u001b[0m\n",
      "\u001b[0;31mValueError\u001b[0m: Arguments \"names\" and \"dtype\" must match number of columns"
     ]
    }
   ],
   "source": [
    "from astropy.table import Table, Column\n",
    "import numpy as np\n",
    "for element_stop in stop_list:\n",
    "    t = Table(names=('refID', 'arrivalOffset', 'departureOffset','awaitDeparture'),dtype='string')\n",
    "    t.add_row([element_stop.get('refID'), element_stop.get('arrivalOffset'), element_stop.get('departureOffset'), element_stop.get('awaitDeparture')])"
   ]
  },
  {
   "cell_type": "code",
   "execution_count": null,
   "metadata": {
    "collapsed": true
   },
   "outputs": [],
   "source": []
  }
 ],
 "metadata": {
  "kernelspec": {
   "display_name": "Python 3",
   "language": "python",
   "name": "python3"
  },
  "language_info": {
   "codemirror_mode": {
    "name": "ipython",
    "version": 3
   },
   "file_extension": ".py",
   "mimetype": "text/x-python",
   "name": "python",
   "nbconvert_exporter": "python",
   "pygments_lexer": "ipython3",
   "version": "3.6.3"
  }
 },
 "nbformat": 4,
 "nbformat_minor": 2
}
