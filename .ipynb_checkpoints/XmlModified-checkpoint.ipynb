{
 "cells": [
  {
   "cell_type": "markdown",
   "metadata": {},
   "source": [
    "This file modifies the given GTFS file in xml format to be fit as input file into the MATSim program"
   ]
  },
  {
   "cell_type": "code",
   "execution_count": null,
   "metadata": {
    "collapsed": true
   },
   "outputs": [],
   "source": [
    "# Import dependencies:\n",
    "import datetime as time\n",
    "import xml.etree.ElementTree as elem\n",
    "import numpy as np\n",
    "import collections"
   ]
  },
  {
   "cell_type": "code",
   "execution_count": null,
   "metadata": {
    "collapsed": true
   },
   "outputs": [],
   "source": []
  },
  {
   "cell_type": "code",
   "execution_count": 56,
   "metadata": {
    "collapsed": true
   },
   "outputs": [],
   "source": [
    "def schedule_modifier(xml_file):\n",
    "    # Read the xml file we would like to modify:\n",
    "    schedule_root = elem.parse(xml_file).getroot()\n",
    "    # Obtain a copy of original schedule_root\n",
    "    root = schedule_root\n",
    "    # Initialize a shapeID array to examine if some shapeID exist:\n",
    "    shapeID_dict = {}\n",
    "    # Then we could iterate through all transitLine element \n",
    "    for transitLine_element in root.findall('transitLine'):\n",
    "        # We do all the grouping and regrouping within the same transiLine_element\n",
    "        # Different line should not interfer with each other even though they might have same shapeID:\n",
    "        # Initialize a transitRoute dict to store the transitRoute_id so that we could do grouping\n",
    "        for transitRoute_element in transitLine_element:\n",
    "            # And we can extract the shapeID in the description tag\n",
    "            shapeID = transitRoute_element.find('description').text[8:]\n",
    "            # Find the correspoding departures:\n",
    "            departures = transitRoute_element.find('departures')\n",
    "            # If the shapeID is new to the shapeID_dict, we could put in the shapeID as key \n",
    "            if shapeID not in shapeID_dict:\n",
    "                shapeID_dict[shapeID] = departures      \n",
    "            # If the shapeID already exists in the shapeID_dict, we would like to extract each departure element\n",
    "            # and attach them to the departures section, i.e master departures, where the same shapeID first shows up:\n",
    "            else:\n",
    "                master_departures = shapeID_dict.get(shapeID)\n",
    "                # Iterate through each departure element and attach it to the section\n",
    "                for departure in departures:\n",
    "                    master_departures.append(departure)\n",
    "                # After inserting all these departure into the master departures, we would like to\n",
    "                # remove this transitRoute element so it would not discriminate itself as a seperate service:\n",
    "                transitLine_element.remove(transitRoute_element)"
   ]
  },
  {
   "cell_type": "markdown",
   "metadata": {},
   "source": [
    "The only module we would like to modify is the one describing the transitRoute and we would like to categorize everything according to shapeID"
   ]
  },
  {
   "cell_type": "code",
   "execution_count": null,
   "metadata": {},
   "outputs": [],
   "source": []
  },
  {
   "cell_type": "code",
   "execution_count": 54,
   "metadata": {},
   "outputs": [
    {
     "name": "stdout",
     "output_type": "stream",
     "text": [
      "360\n",
      "2749\n"
     ]
    }
   ],
   "source": [
    "# We could check that the tree structure should be cleaned up right now, \n",
    "# and we can check that by see if the shapeIDs are unique now:\n",
    "arr = []\n",
    "for transitLine_element in root.findall('transitLine'):\n",
    "    for transitRoute_element in transitLine_element:\n",
    "        shapeID_check = transitRoute_element.find('description').text[8:]\n",
    "        arr.append(shapeID_check)\n",
    "        \n",
    "# print('Are all shapeIDs unique? ')\n",
    "print(np.unique(arr).size)\n",
    "print(len(arr))"
   ]
  },
  {
   "cell_type": "markdown",
   "metadata": {},
   "source": [
    "Looks Good！"
   ]
  },
  {
   "cell_type": "markdown",
   "metadata": {},
   "source": [
    "Next step is we are going to replace all departure id to get them consistent with the transitRoute id"
   ]
  },
  {
   "cell_type": "code",
   "execution_count": 43,
   "metadata": {
    "collapsed": true
   },
   "outputs": [],
   "source": [
    "for transitLine_element in root.findall('transitLine'):\n",
    "    for transitRoute_element in transitLine_element:\n",
    "        transitRoute_id = transitRoute_element.get('id')\n",
    "        departures = transitRoute_element.find('departures')\n",
    "        for departure in departures:\n",
    "            # Get the departure time\n",
    "            timestamp = departure.get('departureTime')\n",
    "            # Reset all id with the first part same as the transitRoute_ID and second part as the departure time\n",
    "            departure.set('id', transitRoute_id + '_' + timestamp)"
   ]
  },
  {
   "cell_type": "code",
   "execution_count": null,
   "metadata": {
    "collapsed": true
   },
   "outputs": [],
   "source": []
  },
  {
   "cell_type": "code",
   "execution_count": null,
   "metadata": {
    "collapsed": true
   },
   "outputs": [],
   "source": []
  }
 ],
 "metadata": {
  "kernelspec": {
   "display_name": "Python 3",
   "language": "python",
   "name": "python3"
  },
  "language_info": {
   "codemirror_mode": {
    "name": "ipython",
    "version": 3
   },
   "file_extension": ".py",
   "mimetype": "text/x-python",
   "name": "python",
   "nbconvert_exporter": "python",
   "pygments_lexer": "ipython3",
   "version": "3.6.3"
  }
 },
 "nbformat": 4,
 "nbformat_minor": 2
}
