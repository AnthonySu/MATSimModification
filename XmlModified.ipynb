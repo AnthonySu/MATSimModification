{
 "cells": [
  {
   "cell_type": "markdown",
   "metadata": {},
   "source": [
    "This file modifies the given GTFS file in xml format to be fit as input file into the MATSim program"
   ]
  },
  {
   "cell_type": "code",
   "execution_count": 2,
   "metadata": {
    "collapsed": true
   },
   "outputs": [],
   "source": [
    "# Import dependencies:\n",
    "import datetime as time\n",
    "import xml.etree.ElementTree as elem\n",
    "import numpy as np\n",
    "import collections"
   ]
  },
  {
   "cell_type": "code",
   "execution_count": 6,
   "metadata": {},
   "outputs": [],
   "source": []
  },
  {
   "cell_type": "code",
   "execution_count": 7,
   "metadata": {
    "collapsed": true
   },
   "outputs": [],
   "source": [
    "def schedule_modifier(xml_file):\n",
    "    # Read the xml file we would like to modify:\n",
    "    tree = elem.parse(xml_file)\n",
    "    root = tree.getroot()\n",
    "    # Initialize a shapeID array to examine if some shapeID exist:\n",
    "    shapeID_dict = {}\n",
    "    # Then we could iterate through all transitLine element \n",
    "    for transitLine_element in root.findall('transitLine'):\n",
    "        # We do all the grouping and regrouping within the same transiLine_element\n",
    "        # Different line should not interfer with each other even though they might have same shapeID:\n",
    "        # Initialize a transitRoute dict to store the transitRoute_id so that we could do grouping\n",
    "        for transitRoute_element in transitLine_element:\n",
    "            # And we can extract the shapeID in the description tag\n",
    "            shapeID = transitRoute_element.find('description').text[8:]\n",
    "            # Find the correspoding departures:\n",
    "            departures = transitRoute_element.find('departures')\n",
    "            # If the shapeID is new to the shapeID_dict, we could put in the shapeID as key \n",
    "            if shapeID not in shapeID_dict:\n",
    "                shapeID_dict[shapeID] = departures      \n",
    "            # If the shapeID already exists in the shapeID_dict, we would like to extract each departure element\n",
    "            # and attach them to the departures section, i.e master departures, where the same shapeID first shows up:\n",
    "            else:\n",
    "                master_departures = shapeID_dict.get(shapeID)\n",
    "                # Iterate through each departure element and attach it to the section\n",
    "                for departure in departures:\n",
    "                    master_departures.append(departure)\n",
    "                # After inserting all these departure into the master departures, we would like to\n",
    "                # remove this transitRoute element so it would not discriminate itself as a seperate service:\n",
    "                transitLine_element.remove(transitRoute_element)\n",
    "    tree.write('output.xml')"
   ]
  },
  {
   "cell_type": "code",
   "execution_count": null,
   "metadata": {
    "collapsed": true
   },
   "outputs": [],
   "source": [
    "schedule_modifier('BK-')"
   ]
  },
  {
   "cell_type": "markdown",
   "metadata": {},
   "source": [
    "The only module we would like to modify is the one describing the transitRoute and we would like to categorize everything according to shapeID"
   ]
  },
  {
   "cell_type": "code",
   "execution_count": null,
   "metadata": {
    "collapsed": true
   },
   "outputs": [],
   "source": []
  },
  {
   "cell_type": "code",
   "execution_count": 4,
   "metadata": {},
   "outputs": [
    {
     "ename": "NameError",
     "evalue": "name 'root' is not defined",
     "output_type": "error",
     "traceback": [
      "\u001b[0;31m---------------------------------------------------------------------------\u001b[0m",
      "\u001b[0;31mNameError\u001b[0m                                 Traceback (most recent call last)",
      "\u001b[0;32m<ipython-input-4-8926512bfc78>\u001b[0m in \u001b[0;36m<module>\u001b[0;34m()\u001b[0m\n\u001b[1;32m      2\u001b[0m \u001b[0;31m# and we can check that by see if the shapeIDs are unique now:\u001b[0m\u001b[0;34m\u001b[0m\u001b[0;34m\u001b[0m\u001b[0m\n\u001b[1;32m      3\u001b[0m \u001b[0marr\u001b[0m \u001b[0;34m=\u001b[0m \u001b[0;34m[\u001b[0m\u001b[0;34m]\u001b[0m\u001b[0;34m\u001b[0m\u001b[0m\n\u001b[0;32m----> 4\u001b[0;31m \u001b[0;32mfor\u001b[0m \u001b[0mtransitLine_element\u001b[0m \u001b[0;32min\u001b[0m \u001b[0mroot\u001b[0m\u001b[0;34m.\u001b[0m\u001b[0mfindall\u001b[0m\u001b[0;34m(\u001b[0m\u001b[0;34m'transitLine'\u001b[0m\u001b[0;34m)\u001b[0m\u001b[0;34m:\u001b[0m\u001b[0;34m\u001b[0m\u001b[0m\n\u001b[0m\u001b[1;32m      5\u001b[0m     \u001b[0;32mfor\u001b[0m \u001b[0mtransitRoute_element\u001b[0m \u001b[0;32min\u001b[0m \u001b[0mtransitLine_element\u001b[0m\u001b[0;34m:\u001b[0m\u001b[0;34m\u001b[0m\u001b[0m\n\u001b[1;32m      6\u001b[0m         \u001b[0mshapeID_check\u001b[0m \u001b[0;34m=\u001b[0m \u001b[0mtransitRoute_element\u001b[0m\u001b[0;34m.\u001b[0m\u001b[0mfind\u001b[0m\u001b[0;34m(\u001b[0m\u001b[0;34m'description'\u001b[0m\u001b[0;34m)\u001b[0m\u001b[0;34m.\u001b[0m\u001b[0mtext\u001b[0m\u001b[0;34m[\u001b[0m\u001b[0;36m8\u001b[0m\u001b[0;34m:\u001b[0m\u001b[0;34m]\u001b[0m\u001b[0;34m\u001b[0m\u001b[0m\n",
      "\u001b[0;31mNameError\u001b[0m: name 'root' is not defined"
     ]
    }
   ],
   "source": [
    "# # We could check that the tree structure should be cleaned up right now, \n",
    "# # and we can check that by see if the shapeIDs are unique now:\n",
    "# arr = []\n",
    "# for transitLine_element in root.findall('transitLine'):\n",
    "#     for transitRoute_element in transitLine_element:\n",
    "#         shapeID_check = transitRoute_element.find('description').text[8:]\n",
    "#         arr.append(shapeID_check)\n",
    "        \n",
    "# # print('Are all shapeIDs unique? ')\n",
    "# print(np.unique(arr).size)\n",
    "# print(len(arr))"
   ]
  },
  {
   "cell_type": "markdown",
   "metadata": {},
   "source": [
    "Looks Good！"
   ]
  },
  {
   "cell_type": "markdown",
   "metadata": {},
   "source": [
    "Next step is we are going to replace all departure id to get them consistent with the transitRoute id"
   ]
  },
  {
   "cell_type": "code",
   "execution_count": 43,
   "metadata": {
    "collapsed": true
   },
   "outputs": [],
   "source": [
    "# for transitLine_element in root.findall('transitLine'):\n",
    "#     for transitRoute_element in transitLine_element:\n",
    "#         transitRoute_id = transitRoute_element.get('id')\n",
    "#         departures = transitRoute_element.find('departures')\n",
    "#         for departure in departures:\n",
    "#             # Get the departure time\n",
    "#             timestamp = departure.get('departureTime')\n",
    "#             # Reset all id with the first part same as the transitRoute_ID and second part as the departure time\n",
    "#             departure.set('id', transitRoute_id + '_' + timestamp)"
   ]
  },
  {
   "cell_type": "code",
   "execution_count": null,
   "metadata": {
    "collapsed": true
   },
   "outputs": [],
   "source": []
  },
  {
   "cell_type": "code",
   "execution_count": null,
   "metadata": {
    "collapsed": true
   },
   "outputs": [],
   "source": []
  }
 ],
 "metadata": {
  "kernelspec": {
   "display_name": "Python 3",
   "language": "python",
   "name": "python3"
  },
  "language_info": {
   "codemirror_mode": {
    "name": "ipython",
    "version": 3
   },
   "file_extension": ".py",
   "mimetype": "text/x-python",
   "name": "python",
   "nbconvert_exporter": "python",
   "pygments_lexer": "ipython3",
   "version": "3.6.3"
  }
 },
 "nbformat": 4,
 "nbformat_minor": 2
}
