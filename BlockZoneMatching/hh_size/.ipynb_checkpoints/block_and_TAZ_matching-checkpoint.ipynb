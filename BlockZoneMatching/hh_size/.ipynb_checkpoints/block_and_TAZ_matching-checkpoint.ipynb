{
 "cells": [
  {
   "cell_type": "code",
   "execution_count": 22,
   "metadata": {
    "collapsed": true
   },
   "outputs": [],
   "source": [
    "# Libraries and dependencies\n",
    "import numpy as np\n",
    "import pandas as pd"
   ]
  },
  {
   "cell_type": "code",
   "execution_count": 23,
   "metadata": {
    "collapsed": true
   },
   "outputs": [],
   "source": [
    "# Read in the input files:\n",
    "new_york_df = pd.read_csv('new_york_size.csv', skiprows=1)\n",
    "bronx_df = pd.read_csv('bronx_size.csv', skiprows=1)\n",
    "kings_df = pd.read_csv('kings_size.csv', skiprows=1)\n",
    "queens_df = pd.read_csv('queens_size.csv', skiprows=1)\n",
    "Richmond_df = pd.read_csv('Richmond_size.csv', skiprows=1)"
   ]
  },
  {
   "cell_type": "code",
   "execution_count": 24,
   "metadata": {},
   "outputs": [],
   "source": [
    "# Change all the Id, i.e Id2 value, into integers:\n",
    "for df in [new_york_df, queens_df, bronx_df, kings_df , Richmond_df]:\n",
    "    df['Id2'] = df['Id2'].astype('int')"
   ]
  },
  {
   "cell_type": "code",
   "execution_count": 25,
   "metadata": {
    "collapsed": true
   },
   "outputs": [],
   "source": [
    "# Generate average household size for each dataframe, i.e adding a column in the dataframe:\n",
    "# for dataframe in dataframe_list:\n",
    "#     dataframe['avg_hh'] = dataframe['total hh num']/dataframe['total hhsize']\n",
    "new_york_df['avg_hh'] = new_york_df['total hh num']/ new_york_df['total hhsize']\n",
    "bronx_df['avg_hh'] = bronx_df['total hh num']/ bronx_df['total hhsize']\n",
    "queens_df['avg_hh'] = queens_df['total hh num']/ queens_df['total hhsize']\n",
    "kings_df['avg_hh'] = kings_df['total hh num']/kings_df['total hhsize']\n",
    "Richmond_df['avg_hh'] = Richmond_df['total hh num']/ Richmond_df['total hhsize']"
   ]
  },
  {
   "cell_type": "code",
   "execution_count": 26,
   "metadata": {
    "collapsed": true
   },
   "outputs": [],
   "source": [
    "# Further clean the data by eliminating rows containing NaN:\n",
    "new_york_df = new_york_df[~np.isnan(new_york_df).any(axis=1)]\n",
    "bronx_df = bronx_df[~np.isnan(bronx_df).any(axis=1)]\n",
    "queens_df = queens_df[~np.isnan(queens_df).any(axis=1)]\n",
    "kings_df = kings_df[~np.isnan(kings_df).any(axis=1)]\n",
    "Richmond_df = Richmond_df[~np.isnan(Richmond_df).any(axis=1)]"
   ]
  },
  {
   "cell_type": "code",
   "execution_count": 27,
   "metadata": {
    "collapsed": true
   },
   "outputs": [],
   "source": [
    "# Calculate the percentage for each household for each dataframe\n",
    "for df in [new_york_df, queens_df, bronx_df, kings_df , Richmond_df]:\n",
    "    for i in range(1,7):\n",
    "        df['percentage_' + str(i)] = df[str(i)]/df['total hhsize']"
   ]
  },
  {
   "cell_type": "code",
   "execution_count": 30,
   "metadata": {
    "collapsed": true
   },
   "outputs": [],
   "source": [
    "# Read in the TAZ data:\n",
    "TAZ = pd.read_csv('TAZ_Household_size-1.csv')\n",
    "new_york_TAZ = TAZ.loc[0:317].reset_index(drop=True)\n",
    "queens_TAZ = TAZ.loc[318:751]\n",
    "bronx_TAZ = TAZ.loc[752:1024]\n",
    "kings_TAZ = TAZ.loc[1025:1537]\n",
    "Richmond_TAZ = TAZ.loc[1538:1621]"
   ]
  },
  {
   "cell_type": "code",
   "execution_count": null,
   "metadata": {},
   "outputs": [],
   "source": []
  },
  {
   "cell_type": "code",
   "execution_count": 31,
   "metadata": {
    "collapsed": true
   },
   "outputs": [],
   "source": [
    "# The following function aims to match TAZ with corresponding block:\n",
    "def matching(block_df, TAZ_input):\n",
    "    # Construct a dict to store all the ID of the residential block and its average hh value:\n",
    "    block_dict = {}\n",
    "    for block_row in block_df.itertuples(index=True, name='Pandas'):\n",
    "        block_dict[getattr(block_row, \"avg_hh\")] =  getattr(block_row, \"Id2\")  \n",
    "    matches = {}\n",
    "    # Initialize a empty dataframe which to be added to new_york_TAZ:\n",
    "    columns = ['1','2','3','4','5', '6', '7','avg_hh']\n",
    "    rows = []\n",
    "    # Iterate through the TAZ table:\n",
    "   \n",
    "    for taz_row in TAZ_input.itertuples(index = True, name = 'Pandas'):\n",
    "\n",
    "        current_hh_target = getattr(taz_row, 'HHSIZE')\n",
    "\n",
    "        current_taz_id = getattr(taz_row, 'TAZ')\n",
    "\n",
    "        # Find the closest element in the list according to the target number\n",
    "        closest_key = min(block_dict.keys(), key=lambda x:abs(x-current_hh_target))\n",
    "        \n",
    "\n",
    "        # Retrieve the value stored corresponding to the key, which is the block id:\n",
    "        current_block_id = block_dict[closest_key]\n",
    "\n",
    "        matches[current_taz_id] = current_block_id\n",
    "\n",
    "        row = block_df[block_df['Id2'] == current_block_id][columns].values.tolist()\n",
    "        row = row[0]\n",
    "        rows.append(row)\n",
    "        # Remove the items from block_dict since we could not use the same block_id again:\n",
    "        block_dict.pop(closest_key)\n",
    "    \n",
    "    # Construct a new dataframe to include all these rows:\n",
    "    to_be_added = pd.DataFrame(rows, columns = columns)\n",
    "    result = pd.concat([TAZ_input, to_be_added],axis = 1)\n",
    "    \n",
    "    return result"
   ]
  },
  {
   "cell_type": "code",
   "execution_count": 33,
   "metadata": {},
   "outputs": [],
   "source": [
    "result_ny = matching(new_york_df, new_york_TAZ)\n",
    "result_queens = matching(queens_df, queens_TAZ)\n",
    "result_bronx = matching(bronx_df, bronx_TAZ)\n",
    "result_kings = matching(kings_df, kings_TAZ)\n",
    "result_Richmond = matching(Richmond_df, Richmond_TAZ)"
   ]
  },
  {
   "cell_type": "code",
   "execution_count": null,
   "metadata": {
    "collapsed": true
   },
   "outputs": [],
   "source": [
    "writer = pd.ExcelWriter('output.xlsx')\n",
    "result_ny.to_excel(writer,'new_york_TAZ')\n",
    "result_queens.to_excel(writer,'queens_TAZ')\n",
    "result_bronx.to_excel(writer,'bronx_TAZ')\n",
    "result_kings.to_excel(writer,'kings_TAZ')\n",
    "result_Richmond.to_excel(writer,'Richmond_TAZ')"
   ]
  },
  {
   "cell_type": "code",
   "execution_count": null,
   "metadata": {
    "collapsed": true
   },
   "outputs": [],
   "source": []
  },
  {
   "cell_type": "code",
   "execution_count": null,
   "metadata": {
    "collapsed": true
   },
   "outputs": [],
   "source": []
  }
 ],
 "metadata": {
  "kernelspec": {
   "display_name": "Python 3",
   "language": "python",
   "name": "python3"
  },
  "language_info": {
   "codemirror_mode": {
    "name": "ipython",
    "version": 3
   },
   "file_extension": ".py",
   "mimetype": "text/x-python",
   "name": "python",
   "nbconvert_exporter": "python",
   "pygments_lexer": "ipython3",
   "version": "3.6.3"
  }
 },
 "nbformat": 4,
 "nbformat_minor": 2
}
